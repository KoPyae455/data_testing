{
 "cells": [
  {
   "cell_type": "code",
   "execution_count": 1,
   "id": "initial_id",
   "metadata": {
    "collapsed": true,
    "ExecuteTime": {
     "end_time": "2024-02-22T07:42:33.506128400Z",
     "start_time": "2024-02-22T07:42:33.480450100Z"
    }
   },
   "outputs": [
    {
     "name": "stdout",
     "output_type": "stream",
     "text": [
      "Gradient Descen:t [-0.003963803079006883, -0.011891409237020648]\n",
      "error term: -0.07927606158013766\n",
      "neural network output: 0.5174928576663897\n",
      "output gradient f`(h): 0.24969399993066344\n",
      "output gradient: -0.31749285766638974\n"
     ]
    }
   ],
   "source": [
    "import numpy as np\n",
    "\n",
    "def sigmoid(x):\n",
    "    return 1/(1+np.exp(-x))\n",
    "\n",
    "def sigmoid_prime(x):\n",
    "    return sigmoid(x) * (1 - sigmoid(x))\n",
    "x = np.array([0.1,0.3])\n",
    "y = 0.2\n",
    "\n",
    "w1 = np.array([-0.8,0.5])\n",
    "\n",
    "learnrate = 0.5\n",
    "h = x[0]*w1[0]+x[1]*w1[1]\n",
    "\n",
    "nn_output = sigmoid(h)\n",
    "error = y - nn_output\n",
    "output_grad = sigmoid_prime(h)\n",
    "\n",
    "error_term = error * output_grad\n",
    "\n",
    "del_w1 = [learnrate * error_term * x[0],\n",
    "          learnrate * error_term * x[1]]\n",
    "\n",
    "print('Gradient Descen:t',del_w1)\n",
    "print('error term:',error_term)\n",
    "print('neural network output:',nn_output)\n",
    "print('output gradient f`(h):',output_grad)\n",
    "print('output gradient:',error)"
   ]
  },
  {
   "cell_type": "code",
   "execution_count": 2,
   "outputs": [
    {
     "name": "stdout",
     "output_type": "stream",
     "text": [
      "Gradient Descen:t [-0.003963803079006883, -0.011891409237020648]\n",
      "error term: [-0.04063738]\n",
      "neural network output: 0.6899744811276125\n",
      "output gradient f`(h): 0.2139096965202944\n",
      "output gradient: [-0.18997448]\n"
     ]
    }
   ],
   "source": [
    "import numpy as np\n",
    "\n",
    "def sigmoid(x):\n",
    "    return 1/(1+np.exp(-x))\n",
    "\n",
    "def sigmoid_prime(x):\n",
    "    return sigmoid(x) * (1 - sigmoid(x))\n",
    "\n",
    "learnrate = 0.5\n",
    "x = np.array([1,2,3,4])\n",
    "y = np.array([0.5])\n",
    "\n",
    "w1 = np.array([0.5, -0.5, 0.3, 0.1])\n",
    "\n",
    "h = x[0]*w1[0]+x[1]*w1[1]+x[2]*w1[2]+x[3]*w1[3]\n",
    "\n",
    "nn_output = sigmoid(h)\n",
    "\n",
    "error = y - nn_output\n",
    "\n",
    "output_grad = sigmoid_prime(h)\n",
    "\n",
    "error_term = error * output_grad\n",
    "\n",
    "def_w1 =[learnrate * error_term * x[0],\n",
    "         learnrate * error_term * x[1],\n",
    "         learnrate * error_term * x[2],\n",
    "         learnrate * error_term * x[3],]\n",
    "\n",
    "print('Gradient Descen:t',del_w1)\n",
    "print('error term:',error_term)\n",
    "print('neural network output:',nn_output)\n",
    "print('output gradient f`(h):',output_grad)\n",
    "print('output gradient:',error)"
   ],
   "metadata": {
    "collapsed": false,
    "ExecuteTime": {
     "end_time": "2024-02-22T07:51:31.743783600Z",
     "start_time": "2024-02-22T07:51:31.729402800Z"
    }
   },
   "id": "2b3453c5e51db7ca"
  },
  {
   "cell_type": "code",
   "execution_count": null,
   "outputs": [],
   "source": [],
   "metadata": {
    "collapsed": false
   },
   "id": "e4b2b71cd30a9307"
  }
 ],
 "metadata": {
  "kernelspec": {
   "display_name": "Python 3",
   "language": "python",
   "name": "python3"
  },
  "language_info": {
   "codemirror_mode": {
    "name": "ipython",
    "version": 2
   },
   "file_extension": ".py",
   "mimetype": "text/x-python",
   "name": "python",
   "nbconvert_exporter": "python",
   "pygments_lexer": "ipython2",
   "version": "2.7.6"
  }
 },
 "nbformat": 4,
 "nbformat_minor": 5
}
