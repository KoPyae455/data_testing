{
 "cells": [
  {
   "cell_type": "code",
   "execution_count": 55,
   "id": "initial_id",
   "metadata": {
    "collapsed": true,
    "ExecuteTime": {
     "end_time": "2024-02-19T08:45:10.574266400Z",
     "start_time": "2024-02-19T08:45:10.530697300Z"
    }
   },
   "outputs": [],
   "source": [
    "from sklearn.linear_model import LinearRegression\n",
    "from sklearn.datasets import fetch_california_housing\n",
    "from sklearn.metrics import mean_squared_error, r2_score\n",
    "from sklearn.model_selection import train_test_split\n",
    "housing = fetch_california_housing()\n",
    "\n"
   ]
  },
  {
   "cell_type": "code",
   "execution_count": 56,
   "outputs": [],
   "source": [
    "california_housing = fetch_california_housing()\n",
    "X = california_housing['data']\n",
    "y = california_housing['target']\n",
    "x_train, x_test, y_train, y_test = train_test_split(X, y)"
   ],
   "metadata": {
    "collapsed": false,
    "ExecuteTime": {
     "end_time": "2024-02-19T08:45:12.028426300Z",
     "start_time": "2024-02-19T08:45:11.992404Z"
    }
   },
   "id": "bf450c823e84097"
  },
  {
   "cell_type": "code",
   "execution_count": null,
   "outputs": [],
   "source": [
    "model = LinearRegression()\n",
    "model.fit(x_train, y_train)"
   ],
   "metadata": {
    "collapsed": false
   },
   "id": "dd806eef91ec883e"
  },
  {
   "cell_type": "code",
   "execution_count": 60,
   "outputs": [],
   "source": [
    "sample_house = [[2.29690000e-01, 0.00000000e+00, 1.00000000e+00, 1.00000220e+00,2.00000000e+00,\n",
    "                 3.23154821e-01, 1.00000000e+00, 1.00000000e+00]]"
   ],
   "metadata": {
    "collapsed": false,
    "ExecuteTime": {
     "end_time": "2024-02-19T08:45:51.326126200Z",
     "start_time": "2024-02-19T08:45:51.294652200Z"
    }
   },
   "id": "da4904a923188dcc"
  },
  {
   "cell_type": "code",
   "execution_count": 88,
   "outputs": [],
   "source": [
    "prediction = model.predict(x_test)"
   ],
   "metadata": {
    "collapsed": false,
    "ExecuteTime": {
     "end_time": "2024-02-19T08:53:15.764022700Z",
     "start_time": "2024-02-19T08:53:15.750149Z"
    }
   },
   "id": "cbc96f5bd0279dc"
  },
  {
   "cell_type": "code",
   "execution_count": null,
   "outputs": [],
   "source": [
    "# accuracy = model.score(y_test,x_test)\n",
    "# print(accuracy)"
   ],
   "metadata": {
    "collapsed": false
   },
   "id": "e3ff16e0f07495c2"
  },
  {
   "cell_type": "code",
   "execution_count": 82,
   "outputs": [
    {
     "name": "stdout",
     "output_type": "stream",
     "text": [
      "0.6165845404881191\n"
     ]
    }
   ],
   "source": [
    "print(r2_score(y_test,prediction))"
   ],
   "metadata": {
    "collapsed": false,
    "ExecuteTime": {
     "end_time": "2024-02-19T08:50:55.034703500Z",
     "start_time": "2024-02-19T08:50:54.982707800Z"
    }
   },
   "id": "bc0f7d389d608160"
  }
 ],
 "metadata": {
  "kernelspec": {
   "display_name": "Python 3",
   "language": "python",
   "name": "python3"
  },
  "language_info": {
   "codemirror_mode": {
    "name": "ipython",
    "version": 2
   },
   "file_extension": ".py",
   "mimetype": "text/x-python",
   "name": "python",
   "nbconvert_exporter": "python",
   "pygments_lexer": "ipython2",
   "version": "2.7.6"
  }
 },
 "nbformat": 4,
 "nbformat_minor": 5
}
